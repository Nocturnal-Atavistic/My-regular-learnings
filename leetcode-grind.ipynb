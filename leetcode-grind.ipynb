{
 "cells": [
  {
   "cell_type": "markdown",
   "id": "6335418a",
   "metadata": {},
   "source": [
    "Given two strings needle and haystack, return the index of the first occurrence of needle in haystack, or -1 if needle is not part of haystack.\n",
    "\n",
    " \n",
    "\n",
    "Example 1:\n",
    "\n",
    "Input: haystack = \"sadbutsad\", needle = \"sad\"\n",
    "Output: 0\n",
    "Explanation: \"sad\" occurs at index 0 and 6.\n",
    "The first occurrence is at index 0, so we return 0.\n",
    "Example 2:\n",
    "\n",
    "Input: haystack = \"leetcode\", needle = \"leeto\"\n",
    "Output: -1\n",
    "Explanation: \"leeto\" did not occur in \"leetcode\", so we return -1.\n",
    " \n",
    "\n",
    "Constraints:\n",
    "\n",
    "1 <= haystack.length, needle.length <= 104\n",
    "haystack and needle consist of only lowercase English characters."
   ]
  },
  {
   "cell_type": "code",
   "execution_count": 1,
   "id": "98b942ca",
   "metadata": {},
   "outputs": [
    {
     "name": "stdout",
     "output_type": "stream",
     "text": [
      "0\n"
     ]
    }
   ],
   "source": [
    "class Solution(object):\n",
    "    def strStr(self, haystack, needle):\n",
    "        self.haystack= str(haystack)\n",
    "        self.needle = str(needle)\n",
    "        if self.needle in self.haystack:\n",
    "            return haystack.find(needle)\n",
    "            \n",
    "        else:\n",
    "            return -1\n",
    "\n",
    "puzzle = Solution()\n",
    "result = puzzle.strStr(\"sadbutsad\", \"sad\")\n",
    "print(result)\n"
   ]
  },
  {
   "cell_type": "code",
   "execution_count": 6,
   "id": "bf459efa",
   "metadata": {},
   "outputs": [
    {
     "ename": "TypeError",
     "evalue": "__init__() should return None, not 'int'",
     "output_type": "error",
     "traceback": [
      "\u001b[1;31m---------------------------------------------------------------------------\u001b[0m",
      "\u001b[1;31mTypeError\u001b[0m                                 Traceback (most recent call last)",
      "Cell \u001b[1;32mIn[6], line 11\u001b[0m\n\u001b[0;32m      8\u001b[0m         \u001b[38;5;28;01melse\u001b[39;00m:\n\u001b[0;32m      9\u001b[0m             \u001b[38;5;28;01mreturn\u001b[39;00m \n\u001b[1;32m---> 11\u001b[0m puzzle \u001b[38;5;241m=\u001b[39m \u001b[43mSolution\u001b[49m\u001b[43m(\u001b[49m\u001b[38;5;124;43m\"\u001b[39;49m\u001b[38;5;124;43msadbutsad\u001b[39;49m\u001b[38;5;124;43m\"\u001b[39;49m\u001b[43m,\u001b[49m\u001b[43m \u001b[49m\u001b[38;5;124;43m\"\u001b[39;49m\u001b[38;5;124;43msad\u001b[39;49m\u001b[38;5;124;43m\"\u001b[39;49m\u001b[43m)\u001b[49m\n\u001b[0;32m     12\u001b[0m \u001b[38;5;66;03m# result = puzzle.strStr(\"sadbutsad\", \"sad\")\u001b[39;00m\n\u001b[0;32m     13\u001b[0m \u001b[38;5;28mprint\u001b[39m(puzzle)\n",
      "\u001b[1;31mTypeError\u001b[0m: __init__() should return None, not 'int'"
     ]
    }
   ],
   "source": [
    "class Solution(object):\n",
    "    def __init__ (self, haystack, needle):\n",
    "        self.haystack= str(haystack)\n",
    "        self.needle = str(needle)\n",
    "        if self.needle in self.haystack:\n",
    "            return haystack.find(needle)\n",
    "            \n",
    "        else:\n",
    "            return \n",
    "\n",
    "puzzle = Solution(\"sadbutsad\", \"sad\")\n",
    "# result = puzzle.strStr(\"sadbutsad\", \"sad\")\n",
    "print(puzzle)"
   ]
  },
  {
   "cell_type": "markdown",
   "id": "f51190b5",
   "metadata": {},
   "source": [
    " You are given two non-empty linked lists representing two non-negative integers. The digits are stored in reverse order, and each of their nodes contains a single digit. Add the two numbers and return the sum as a linked list.\n",
    "\n",
    "You may assume the two numbers do not contain any leading zero, except the number 0 itself.\n",
    "\n",
    " \n",
    "\n",
    "Example 1:\n",
    "\n",
    "\n",
    "Input: l1 = [2,4,3], l2 = [5,6,4]\n",
    "Output: [7,0,8]\n",
    "Explanation: 342 + 465 = 807.\n",
    "Example 2:\n",
    "\n",
    "Input: l1 = [0], l2 = [0]\n",
    "Output: [0]\n",
    "Example 3:\n",
    "\n",
    "Input: l1 = [9,9,9,9,9,9,9], l2 = [9,9,9,9]\n",
    "Output: [8,9,9,9,0,0,0,1]\n",
    " \n",
    "\n",
    "Constraints:\n",
    "\n",
    "The number of nodes in each linked list is in the range [1, 100].\n",
    "0 <= Node.val <= 9\n",
    "It is guaranteed that the list represents a number that does not have leading zeros."
   ]
  },
  {
   "cell_type": "markdown",
   "id": "bd51b2d3",
   "metadata": {},
   "source": [
    "![picture](C:\\Users\\VICTUS\\OneDrive\\Pictures\\Screenshots\\Screenshot 2025-09-21 161043.png)"
   ]
  },
  {
   "cell_type": "code",
   "execution_count": null,
   "id": "86590e52",
   "metadata": {},
   "outputs": [],
   "source": [
    "# Definition for singly-linked list.\n",
    "# class ListNode(object):\n",
    "#     def __init__(self, val=0, next=None):\n",
    "#         self.val = val\n",
    "#         self.next = next\n",
    "class Solution(object):\n",
    "    def addTwoNumbers(self, l1, l2):\n",
    "        \"\"\"\n",
    "        :type l1: Optional[ListNode]\n",
    "        :type l2: Optional[ListNode]\n",
    "        :rtype: Optional[ListNode]\n",
    "        \"\"\"\n",
    "        "
   ]
  },
  {
   "cell_type": "markdown",
   "id": "ef4ce9e2",
   "metadata": {},
   "source": [
    "String to Integer (atoi)\n",
    "Medium\n",
    "Topics\n",
    "premium lock icon\n",
    "Companies\n",
    "Implement the myAtoi(string s) function, which converts a string to a 32-bit signed integer.\n",
    "\n",
    "The algorithm for myAtoi(string s) is as follows:\n",
    "\n",
    "Whitespace: Ignore any leading whitespace (\" \").\n",
    "\n",
    "Signedness: Determine the sign by checking if the next character is '-' or '+', assuming positivity if neither present.\n",
    "\n",
    "Conversion: Read the integer by skipping leading zeros until a non-digit character is encountered or the end of the string is reached. If no digits were read, then the result is 0.\n",
    "\n",
    "Rounding: If the integer is out of the 32-bit signed integer range [-231, 231 - 1], then round the integer to remain in the range. Specifically, integers less than -231 should be rounded to -231, and integers greater than 231 - 1 should be rounded to 231 - 1.\n",
    "\n",
    "Return the integer as the final result.\n",
    "\n",
    " \n",
    "\n",
    "Example 1:\n",
    "\n",
    "Input: s = \"42\"\n",
    "\n",
    "Output: 42\n",
    "\n",
    "Explanation:\n",
    "\n",
    "The underlined characters are what is read in and the caret is the current reader position.\n",
    "Step 1: \"42\" (no characters read because there is no leading whitespace)\n",
    "         ^\n",
    "Step 2: \"42\" (no characters read because there is neither a '-' nor '+')\n",
    "         ^\n",
    "Step 3: \"42\" (\"42\" is read in)\n",
    "           ^\n",
    "Example 2:\n",
    "\n",
    "Input: s = \" -042\"\n",
    "\n",
    "Output: -42\n",
    "\n",
    "Explanation:\n",
    "\n",
    "Step 1: \"   -042\" (leading whitespace is read and ignored)\n",
    "            ^\n",
    "Step 2: \"   -042\" ('-' is read, so the result should be negative)\n",
    "             ^\n",
    "Step 3: \"   -042\" (\"042\" is read in, leading zeros ignored in the result)\n",
    "               ^\n",
    "Example 3:\n",
    "\n",
    "Input: s = \"1337c0d3\"\n",
    "\n",
    "Output: 1337\n",
    "\n",
    "Explanation:\n",
    "\n",
    "Step 1: \"1337c0d3\" (no characters read because there is no leading whitespace)\n",
    "         ^\n",
    "Step 2: \"1337c0d3\" (no characters read because there is neither a '-' nor '+')\n",
    "         ^\n",
    "Step 3: \"1337c0d3\" (\"1337\" is read in; reading stops because the next character is a non-digit)\n",
    "             ^\n",
    "Example 4:\n",
    "\n",
    "Input: s = \"0-1\"\n",
    "\n",
    "Output: 0\n",
    "\n",
    "Explanation:\n",
    "\n",
    "Step 1: \"0-1\" (no characters read because there is no leading whitespace)\n",
    "         ^\n",
    "Step 2: \"0-1\" (no characters read because there is neither a '-' nor '+')\n",
    "         ^\n",
    "Step 3: \"0-1\" (\"0\" is read in; reading stops because the next character is a non-digit)\n",
    "          ^\n",
    "Example 5:\n",
    "\n",
    "Input: s = \"words and 987\"\n",
    "\n",
    "Output: 0\n",
    "\n",
    "Explanation:\n",
    "\n",
    "Reading stops at the first non-digit character 'w'.\n",
    "\n",
    " \n",
    "\n",
    "Constraints:\n",
    "\n",
    "0 <= s.length <= 200\n",
    "s consists of English letters (lower-case and upper-case), digits (0-9), ' ', '+', '-', and '.'."
   ]
  },
  {
   "cell_type": "code",
   "execution_count": null,
   "id": "da71a70e",
   "metadata": {},
   "outputs": [],
   "source": [
    "class Solution(object):\n",
    "    def myAtoi(self, s):\n",
    "        \"\"\"\n",
    "        :type s: str\n",
    "        :rtype: int\n",
    "        \"\"\"\n",
    "        "
   ]
  },
  {
   "cell_type": "code",
   "execution_count": 24,
   "id": "7e805bb4",
   "metadata": {},
   "outputs": [
    {
     "name": "stdout",
     "output_type": "stream",
     "text": [
      "9\n",
      "3\n",
      "7\n"
     ]
    }
   ],
   "source": [
    "a = [1,2,9,5,6,7]\n",
    "print(max(a))\n",
    "\n",
    "h1 =a.index(9)\n",
    "h2 = a.index(7)\n",
    "\n",
    "breadth = h2-h1\n",
    "print(breadth)\n",
    "\n",
    "\n",
    "# lst = sorted(a)\n",
    "# lst\n",
    "# print(lst[-2])\n",
    "print(sorted(a)[-2])"
   ]
  },
  {
   "cell_type": "code",
   "execution_count": 28,
   "id": "b3945e1c",
   "metadata": {},
   "outputs": [
    {
     "name": "stdout",
     "output_type": "stream",
     "text": [
      "-42\n"
     ]
    }
   ],
   "source": [
    "# h1 = [1,8,6,2,5,4,8,3,7]\n",
    "# h2 = [1,1]\n",
    "\n",
    "class Solution(object):\n",
    "    def maxArea(self, height):\n",
    "        self.height = sorted(height)[-1]\n",
    "        self.height2 = sorted(height)[-2]\n",
    "\n",
    "        length = self.height2\n",
    "        breadth = height.index(self.height)-height.index(self.height2)\n",
    "\n",
    "        return length * breadth\n",
    "\n",
    "\n",
    "        \"\"\"\n",
    "        :type height: List[int]\n",
    "        :rtype: int\n",
    "        \"\"\"\n",
    "puzzle = Solution()\n",
    "output = puzzle.maxArea([1,8,6,2,5,4,3,7])\n",
    "print(output)"
   ]
  },
  {
   "cell_type": "code",
   "execution_count": 3,
   "id": "745052ac",
   "metadata": {},
   "outputs": [
    {
     "name": "stdout",
     "output_type": "stream",
     "text": [
      "49\n"
     ]
    }
   ],
   "source": [
    "h1 = [1,8,6,2,5,4,8,3,7]\n",
    "h2 = [1,1]\n",
    "\n",
    "left = 0\n",
    "right = len(h1)-1\n",
    "max_area = 0\n",
    "\n",
    "while left < right:\n",
    "    curren_height = min(h1[left], h1[right])\n",
    "    width = abs(left - right)\n",
    "    current_area = curren_height * width\n",
    "\n",
    "    max_area = max(max_area, current_area)\n",
    "\n",
    "    if h1[left] < h1[right]:\n",
    "        left += 1\n",
    "    else:\n",
    "        right -=1\n",
    "        \n",
    "print(max_area) "
   ]
  },
  {
   "cell_type": "code",
   "execution_count": 4,
   "id": "693a3954",
   "metadata": {},
   "outputs": [
    {
     "name": "stdout",
     "output_type": "stream",
     "text": [
      "42\n"
     ]
    }
   ],
   "source": [
    "class Solution(object):\n",
    "    def maxArea(self, height):\n",
    "        self.left = 0\n",
    "        self.right = len(height)-1\n",
    "        self.max_area = 0\n",
    "\n",
    "        while self.left < self.right:\n",
    "            curren_height = min(height[self.left], height[self.right])\n",
    "            width = abs(self.left - self.right)\n",
    "            current_area = curren_height * width\n",
    "\n",
    "            self.max_area = max(self.max_area, current_area)\n",
    "\n",
    "            if height[self.left] < height[self.right]:\n",
    "                self.left += 1\n",
    "            else:\n",
    "                self.right -=1\n",
    "        \n",
    "        return self.max_area\n",
    "    \n",
    "puzzle = Solution()\n",
    "output = puzzle.maxArea([1,8,6,2,5,4,3,7])\n",
    "print(output)\n"
   ]
  },
  {
   "cell_type": "markdown",
   "id": "04f1decd",
   "metadata": {},
   "source": []
  }
 ],
 "metadata": {
  "kernelspec": {
   "display_name": "Python 3",
   "language": "python",
   "name": "python3"
  },
  "language_info": {
   "codemirror_mode": {
    "name": "ipython",
    "version": 3
   },
   "file_extension": ".py",
   "mimetype": "text/x-python",
   "name": "python",
   "nbconvert_exporter": "python",
   "pygments_lexer": "ipython3",
   "version": "3.12.0"
  }
 },
 "nbformat": 4,
 "nbformat_minor": 5
}
